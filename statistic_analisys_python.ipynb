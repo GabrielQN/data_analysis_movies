{
  "nbformat": 4,
  "nbformat_minor": 0,
  "metadata": {
    "colab": {
      "name": "statistic analisys  python",
      "provenance": [],
      "collapsed_sections": [],
      "mount_file_id": "1dNuir1pmiM3bn-qO_vqFvTne0VQzm3u0",
      "authorship_tag": "ABX9TyO2JTdvfNMXQIJ2pTfNQTLQ",
      "include_colab_link": true
    },
    "kernelspec": {
      "name": "python3",
      "display_name": "Python 3"
    }
  },
  "cells": [
    {
      "cell_type": "markdown",
      "metadata": {
        "id": "view-in-github",
        "colab_type": "text"
      },
      "source": [
        "<a href=\"https://colab.research.google.com/github/GabrielQN/data_analysis_movies/blob/master/statistic_analisys_python.ipynb\" target=\"_parent\"><img src=\"https://colab.research.google.com/assets/colab-badge.svg\" alt=\"Open In Colab\"/></a>"
      ]
    },
    {
      "cell_type": "code",
      "metadata": {
        "id": "00IB6yJIO9_x",
        "colab_type": "code",
        "colab": {}
      },
      "source": [
        "import pandas as pd"
      ],
      "execution_count": 0,
      "outputs": []
    },
    {
      "cell_type": "code",
      "metadata": {
        "id": "SzKcThSAXr4J",
        "colab_type": "code",
        "colab": {}
      },
      "source": [
        "tmdb = pd.read_csv('/content/drive/My Drive/Colab Notebooks/Data_science_python/aula0/tmdb_5000_movies.csv')"
      ],
      "execution_count": 0,
      "outputs": []
    },
    {
      "cell_type": "code",
      "metadata": {
        "id": "YO27rzO7afdT",
        "colab_type": "code",
        "outputId": "bca1b728-bcd0-481f-f750-c289e7b4b0f6",
        "colab": {
          "base_uri": "https://localhost:8080/",
          "height": 717
        }
      },
      "source": [
        "tmdb.head(5)"
      ],
      "execution_count": 205,
      "outputs": [
        {
          "output_type": "execute_result",
          "data": {
            "text/html": [
              "<div>\n",
              "<style scoped>\n",
              "    .dataframe tbody tr th:only-of-type {\n",
              "        vertical-align: middle;\n",
              "    }\n",
              "\n",
              "    .dataframe tbody tr th {\n",
              "        vertical-align: top;\n",
              "    }\n",
              "\n",
              "    .dataframe thead th {\n",
              "        text-align: right;\n",
              "    }\n",
              "</style>\n",
              "<table border=\"1\" class=\"dataframe\">\n",
              "  <thead>\n",
              "    <tr style=\"text-align: right;\">\n",
              "      <th></th>\n",
              "      <th>budget</th>\n",
              "      <th>genres</th>\n",
              "      <th>homepage</th>\n",
              "      <th>id</th>\n",
              "      <th>keywords</th>\n",
              "      <th>original_language</th>\n",
              "      <th>original_title</th>\n",
              "      <th>overview</th>\n",
              "      <th>popularity</th>\n",
              "      <th>production_companies</th>\n",
              "      <th>production_countries</th>\n",
              "      <th>release_date</th>\n",
              "      <th>revenue</th>\n",
              "      <th>runtime</th>\n",
              "      <th>spoken_languages</th>\n",
              "      <th>status</th>\n",
              "      <th>tagline</th>\n",
              "      <th>title</th>\n",
              "      <th>vote_average</th>\n",
              "      <th>vote_count</th>\n",
              "    </tr>\n",
              "  </thead>\n",
              "  <tbody>\n",
              "    <tr>\n",
              "      <th>0</th>\n",
              "      <td>237000000</td>\n",
              "      <td>[{\"id\": 28, \"name\": \"Action\"}, {\"id\": 12, \"nam...</td>\n",
              "      <td>http://www.avatarmovie.com/</td>\n",
              "      <td>19995</td>\n",
              "      <td>[{\"id\": 1463, \"name\": \"culture clash\"}, {\"id\":...</td>\n",
              "      <td>en</td>\n",
              "      <td>Avatar</td>\n",
              "      <td>In the 22nd century, a paraplegic Marine is di...</td>\n",
              "      <td>150.437577</td>\n",
              "      <td>[{\"name\": \"Ingenious Film Partners\", \"id\": 289...</td>\n",
              "      <td>[{\"iso_3166_1\": \"US\", \"name\": \"United States o...</td>\n",
              "      <td>2009-12-10</td>\n",
              "      <td>2787965087</td>\n",
              "      <td>162.0</td>\n",
              "      <td>[{\"iso_639_1\": \"en\", \"name\": \"English\"}, {\"iso...</td>\n",
              "      <td>Released</td>\n",
              "      <td>Enter the World of Pandora.</td>\n",
              "      <td>Avatar</td>\n",
              "      <td>7.2</td>\n",
              "      <td>11800</td>\n",
              "    </tr>\n",
              "    <tr>\n",
              "      <th>1</th>\n",
              "      <td>300000000</td>\n",
              "      <td>[{\"id\": 12, \"name\": \"Adventure\"}, {\"id\": 14, \"...</td>\n",
              "      <td>http://disney.go.com/disneypictures/pirates/</td>\n",
              "      <td>285</td>\n",
              "      <td>[{\"id\": 270, \"name\": \"ocean\"}, {\"id\": 726, \"na...</td>\n",
              "      <td>en</td>\n",
              "      <td>Pirates of the Caribbean: At World's End</td>\n",
              "      <td>Captain Barbossa, long believed to be dead, ha...</td>\n",
              "      <td>139.082615</td>\n",
              "      <td>[{\"name\": \"Walt Disney Pictures\", \"id\": 2}, {\"...</td>\n",
              "      <td>[{\"iso_3166_1\": \"US\", \"name\": \"United States o...</td>\n",
              "      <td>2007-05-19</td>\n",
              "      <td>961000000</td>\n",
              "      <td>169.0</td>\n",
              "      <td>[{\"iso_639_1\": \"en\", \"name\": \"English\"}]</td>\n",
              "      <td>Released</td>\n",
              "      <td>At the end of the world, the adventure begins.</td>\n",
              "      <td>Pirates of the Caribbean: At World's End</td>\n",
              "      <td>6.9</td>\n",
              "      <td>4500</td>\n",
              "    </tr>\n",
              "    <tr>\n",
              "      <th>2</th>\n",
              "      <td>245000000</td>\n",
              "      <td>[{\"id\": 28, \"name\": \"Action\"}, {\"id\": 12, \"nam...</td>\n",
              "      <td>http://www.sonypictures.com/movies/spectre/</td>\n",
              "      <td>206647</td>\n",
              "      <td>[{\"id\": 470, \"name\": \"spy\"}, {\"id\": 818, \"name...</td>\n",
              "      <td>en</td>\n",
              "      <td>Spectre</td>\n",
              "      <td>A cryptic message from Bond’s past sends him o...</td>\n",
              "      <td>107.376788</td>\n",
              "      <td>[{\"name\": \"Columbia Pictures\", \"id\": 5}, {\"nam...</td>\n",
              "      <td>[{\"iso_3166_1\": \"GB\", \"name\": \"United Kingdom\"...</td>\n",
              "      <td>2015-10-26</td>\n",
              "      <td>880674609</td>\n",
              "      <td>148.0</td>\n",
              "      <td>[{\"iso_639_1\": \"fr\", \"name\": \"Fran\\u00e7ais\"},...</td>\n",
              "      <td>Released</td>\n",
              "      <td>A Plan No One Escapes</td>\n",
              "      <td>Spectre</td>\n",
              "      <td>6.3</td>\n",
              "      <td>4466</td>\n",
              "    </tr>\n",
              "    <tr>\n",
              "      <th>3</th>\n",
              "      <td>250000000</td>\n",
              "      <td>[{\"id\": 28, \"name\": \"Action\"}, {\"id\": 80, \"nam...</td>\n",
              "      <td>http://www.thedarkknightrises.com/</td>\n",
              "      <td>49026</td>\n",
              "      <td>[{\"id\": 849, \"name\": \"dc comics\"}, {\"id\": 853,...</td>\n",
              "      <td>en</td>\n",
              "      <td>The Dark Knight Rises</td>\n",
              "      <td>Following the death of District Attorney Harve...</td>\n",
              "      <td>112.312950</td>\n",
              "      <td>[{\"name\": \"Legendary Pictures\", \"id\": 923}, {\"...</td>\n",
              "      <td>[{\"iso_3166_1\": \"US\", \"name\": \"United States o...</td>\n",
              "      <td>2012-07-16</td>\n",
              "      <td>1084939099</td>\n",
              "      <td>165.0</td>\n",
              "      <td>[{\"iso_639_1\": \"en\", \"name\": \"English\"}]</td>\n",
              "      <td>Released</td>\n",
              "      <td>The Legend Ends</td>\n",
              "      <td>The Dark Knight Rises</td>\n",
              "      <td>7.6</td>\n",
              "      <td>9106</td>\n",
              "    </tr>\n",
              "    <tr>\n",
              "      <th>4</th>\n",
              "      <td>260000000</td>\n",
              "      <td>[{\"id\": 28, \"name\": \"Action\"}, {\"id\": 12, \"nam...</td>\n",
              "      <td>http://movies.disney.com/john-carter</td>\n",
              "      <td>49529</td>\n",
              "      <td>[{\"id\": 818, \"name\": \"based on novel\"}, {\"id\":...</td>\n",
              "      <td>en</td>\n",
              "      <td>John Carter</td>\n",
              "      <td>John Carter is a war-weary, former military ca...</td>\n",
              "      <td>43.926995</td>\n",
              "      <td>[{\"name\": \"Walt Disney Pictures\", \"id\": 2}]</td>\n",
              "      <td>[{\"iso_3166_1\": \"US\", \"name\": \"United States o...</td>\n",
              "      <td>2012-03-07</td>\n",
              "      <td>284139100</td>\n",
              "      <td>132.0</td>\n",
              "      <td>[{\"iso_639_1\": \"en\", \"name\": \"English\"}]</td>\n",
              "      <td>Released</td>\n",
              "      <td>Lost in our world, found in another.</td>\n",
              "      <td>John Carter</td>\n",
              "      <td>6.1</td>\n",
              "      <td>2124</td>\n",
              "    </tr>\n",
              "  </tbody>\n",
              "</table>\n",
              "</div>"
            ],
            "text/plain": [
              "      budget  ... vote_count\n",
              "0  237000000  ...      11800\n",
              "1  300000000  ...       4500\n",
              "2  245000000  ...       4466\n",
              "3  250000000  ...       9106\n",
              "4  260000000  ...       2124\n",
              "\n",
              "[5 rows x 20 columns]"
            ]
          },
          "metadata": {
            "tags": []
          },
          "execution_count": 205
        }
      ]
    },
    {
      "cell_type": "code",
      "metadata": {
        "id": "jJBCCFlFcdsk",
        "colab_type": "code",
        "outputId": "1d6aec35-e8e7-4337-b6e6-46babbb86d56",
        "colab": {
          "base_uri": "https://localhost:8080/",
          "height": 297
        }
      },
      "source": [
        "tmdb.describe()"
      ],
      "execution_count": 206,
      "outputs": [
        {
          "output_type": "execute_result",
          "data": {
            "text/html": [
              "<div>\n",
              "<style scoped>\n",
              "    .dataframe tbody tr th:only-of-type {\n",
              "        vertical-align: middle;\n",
              "    }\n",
              "\n",
              "    .dataframe tbody tr th {\n",
              "        vertical-align: top;\n",
              "    }\n",
              "\n",
              "    .dataframe thead th {\n",
              "        text-align: right;\n",
              "    }\n",
              "</style>\n",
              "<table border=\"1\" class=\"dataframe\">\n",
              "  <thead>\n",
              "    <tr style=\"text-align: right;\">\n",
              "      <th></th>\n",
              "      <th>budget</th>\n",
              "      <th>id</th>\n",
              "      <th>popularity</th>\n",
              "      <th>revenue</th>\n",
              "      <th>runtime</th>\n",
              "      <th>vote_average</th>\n",
              "      <th>vote_count</th>\n",
              "    </tr>\n",
              "  </thead>\n",
              "  <tbody>\n",
              "    <tr>\n",
              "      <th>count</th>\n",
              "      <td>4.803000e+03</td>\n",
              "      <td>4803.000000</td>\n",
              "      <td>4803.000000</td>\n",
              "      <td>4.803000e+03</td>\n",
              "      <td>4801.000000</td>\n",
              "      <td>4803.000000</td>\n",
              "      <td>4803.000000</td>\n",
              "    </tr>\n",
              "    <tr>\n",
              "      <th>mean</th>\n",
              "      <td>2.904504e+07</td>\n",
              "      <td>57165.484281</td>\n",
              "      <td>21.492301</td>\n",
              "      <td>8.226064e+07</td>\n",
              "      <td>106.875859</td>\n",
              "      <td>6.092172</td>\n",
              "      <td>690.217989</td>\n",
              "    </tr>\n",
              "    <tr>\n",
              "      <th>std</th>\n",
              "      <td>4.072239e+07</td>\n",
              "      <td>88694.614033</td>\n",
              "      <td>31.816650</td>\n",
              "      <td>1.628571e+08</td>\n",
              "      <td>22.611935</td>\n",
              "      <td>1.194612</td>\n",
              "      <td>1234.585891</td>\n",
              "    </tr>\n",
              "    <tr>\n",
              "      <th>min</th>\n",
              "      <td>0.000000e+00</td>\n",
              "      <td>5.000000</td>\n",
              "      <td>0.000000</td>\n",
              "      <td>0.000000e+00</td>\n",
              "      <td>0.000000</td>\n",
              "      <td>0.000000</td>\n",
              "      <td>0.000000</td>\n",
              "    </tr>\n",
              "    <tr>\n",
              "      <th>25%</th>\n",
              "      <td>7.900000e+05</td>\n",
              "      <td>9014.500000</td>\n",
              "      <td>4.668070</td>\n",
              "      <td>0.000000e+00</td>\n",
              "      <td>94.000000</td>\n",
              "      <td>5.600000</td>\n",
              "      <td>54.000000</td>\n",
              "    </tr>\n",
              "    <tr>\n",
              "      <th>50%</th>\n",
              "      <td>1.500000e+07</td>\n",
              "      <td>14629.000000</td>\n",
              "      <td>12.921594</td>\n",
              "      <td>1.917000e+07</td>\n",
              "      <td>103.000000</td>\n",
              "      <td>6.200000</td>\n",
              "      <td>235.000000</td>\n",
              "    </tr>\n",
              "    <tr>\n",
              "      <th>75%</th>\n",
              "      <td>4.000000e+07</td>\n",
              "      <td>58610.500000</td>\n",
              "      <td>28.313505</td>\n",
              "      <td>9.291719e+07</td>\n",
              "      <td>118.000000</td>\n",
              "      <td>6.800000</td>\n",
              "      <td>737.000000</td>\n",
              "    </tr>\n",
              "    <tr>\n",
              "      <th>max</th>\n",
              "      <td>3.800000e+08</td>\n",
              "      <td>459488.000000</td>\n",
              "      <td>875.581305</td>\n",
              "      <td>2.787965e+09</td>\n",
              "      <td>338.000000</td>\n",
              "      <td>10.000000</td>\n",
              "      <td>13752.000000</td>\n",
              "    </tr>\n",
              "  </tbody>\n",
              "</table>\n",
              "</div>"
            ],
            "text/plain": [
              "             budget             id  ...  vote_average    vote_count\n",
              "count  4.803000e+03    4803.000000  ...   4803.000000   4803.000000\n",
              "mean   2.904504e+07   57165.484281  ...      6.092172    690.217989\n",
              "std    4.072239e+07   88694.614033  ...      1.194612   1234.585891\n",
              "min    0.000000e+00       5.000000  ...      0.000000      0.000000\n",
              "25%    7.900000e+05    9014.500000  ...      5.600000     54.000000\n",
              "50%    1.500000e+07   14629.000000  ...      6.200000    235.000000\n",
              "75%    4.000000e+07   58610.500000  ...      6.800000    737.000000\n",
              "max    3.800000e+08  459488.000000  ...     10.000000  13752.000000\n",
              "\n",
              "[8 rows x 7 columns]"
            ]
          },
          "metadata": {
            "tags": []
          },
          "execution_count": 206
        }
      ]
    },
    {
      "cell_type": "code",
      "metadata": {
        "id": "3xj0vhlkciT9",
        "colab_type": "code",
        "colab": {}
      },
      "source": [
        "import seaborn as sns"
      ],
      "execution_count": 0,
      "outputs": []
    },
    {
      "cell_type": "code",
      "metadata": {
        "id": "KyK73f-9csKj",
        "colab_type": "code",
        "outputId": "4516dde2-e694-4090-9c8f-e75d0d00aa8b",
        "colab": {
          "base_uri": "https://localhost:8080/",
          "height": 312
        }
      },
      "source": [
        "ax = sns.distplot(tmdb.vote_average)\n",
        "ax.set(\n",
        "    xlabel = \"Nota média\", \n",
        "    ylabel=\"Densidade\",\n",
        "    title=\"Média de voto para tmdb500\",\n",
        "    )\n",
        "ax"
      ],
      "execution_count": 208,
      "outputs": [
        {
          "output_type": "execute_result",
          "data": {
            "text/plain": [
              "<matplotlib.axes._subplots.AxesSubplot at 0x7ff344cbe898>"
            ]
          },
          "metadata": {
            "tags": []
          },
          "execution_count": 208
        },
        {
          "output_type": "display_data",
          "data": {
            "image/png": "[encoded data removed]",
            "text/plain": [
              "<Figure size 432x288 with 1 Axes>"
            ]
          },
          "metadata": {
            "tags": []
          }
        }
      ]
    },
    {
      "cell_type": "code",
      "metadata": {
        "id": "juIMd0p5dUBK",
        "colab_type": "code",
        "outputId": "467b0150-83b6-4b36-9d63-452b516bcc52",
        "colab": {
          "base_uri": "https://localhost:8080/",
          "height": 312
        }
      },
      "source": [
        "ax = sns.distplot(tmdb.vote_average, norm_hist=False, kde=False)\n",
        "ax.set(\n",
        "    xlabel = \"Nota média\", \n",
        "    ylabel=\"Frequência\",\n",
        "    title=\"Média de voto para tmdb500\"\n",
        "    )\n",
        "ax"
      ],
      "execution_count": 209,
      "outputs": [
        {
          "output_type": "execute_result",
          "data": {
            "text/plain": [
              "<matplotlib.axes._subplots.AxesSubplot at 0x7ff343635588>"
            ]
          },
          "metadata": {
            "tags": []
          },
          "execution_count": 209
        },
        {
          "output_type": "display_data",
          "data": {
            "image/png": "[encoded data removed]",
            "text/plain": [
              "<Figure size 432x288 with 1 Axes>"
            ]
          },
          "metadata": {
            "tags": []
          }
        }
      ]
    },
    {
      "cell_type": "code",
      "metadata": {
        "id": "-to5gn5Tdv3P",
        "colab_type": "code",
        "outputId": "48413167-07bb-49eb-86b2-054667de5c54",
        "colab": {
          "base_uri": "https://localhost:8080/",
          "height": 312
        }
      },
      "source": [
        "ax = sns.boxplot(tmdb.vote_average)\n",
        "ax.set(xlabel=\"Nota média do filme\")\n",
        "ax.set_title(\"Distribuição de notas médias dos filmes do TMDB 5000\")"
      ],
      "execution_count": 210,
      "outputs": [
        {
          "output_type": "execute_result",
          "data": {
            "text/plain": [
              "Text(0.5, 1.0, 'Distribuição de notas médias dos filmes do TMDB 5000')"
            ]
          },
          "metadata": {
            "tags": []
          },
          "execution_count": 210
        },
        {
          "output_type": "display_data",
          "data": {
            "image/png": "[encoded data removed]",
            "text/plain": [
              "<Figure size 432x288 with 1 Axes>"
            ]
          },
          "metadata": {
            "tags": []
          }
        }
      ]
    },
    {
      "cell_type": "code",
      "metadata": {
        "id": "5ebfJsZieUU9",
        "colab_type": "code",
        "outputId": "293284cd-194e-4c13-bffa-a9b1c38dfc9d",
        "colab": {
          "base_uri": "https://localhost:8080/",
          "height": 649
        }
      },
      "source": [
        "tmdb.query(\"vote_average == 0\").head()"
      ],
      "execution_count": 211,
      "outputs": [
        {
          "output_type": "execute_result",
          "data": {
            "text/html": [
              "<div>\n",
              "<style scoped>\n",
              "    .dataframe tbody tr th:only-of-type {\n",
              "        vertical-align: middle;\n",
              "    }\n",
              "\n",
              "    .dataframe tbody tr th {\n",
              "        vertical-align: top;\n",
              "    }\n",
              "\n",
              "    .dataframe thead th {\n",
              "        text-align: right;\n",
              "    }\n",
              "</style>\n",
              "<table border=\"1\" class=\"dataframe\">\n",
              "  <thead>\n",
              "    <tr style=\"text-align: right;\">\n",
              "      <th></th>\n",
              "      <th>budget</th>\n",
              "      <th>genres</th>\n",
              "      <th>homepage</th>\n",
              "      <th>id</th>\n",
              "      <th>keywords</th>\n",
              "      <th>original_language</th>\n",
              "      <th>original_title</th>\n",
              "      <th>overview</th>\n",
              "      <th>popularity</th>\n",
              "      <th>production_companies</th>\n",
              "      <th>production_countries</th>\n",
              "      <th>release_date</th>\n",
              "      <th>revenue</th>\n",
              "      <th>runtime</th>\n",
              "      <th>spoken_languages</th>\n",
              "      <th>status</th>\n",
              "      <th>tagline</th>\n",
              "      <th>title</th>\n",
              "      <th>vote_average</th>\n",
              "      <th>vote_count</th>\n",
              "    </tr>\n",
              "  </thead>\n",
              "  <tbody>\n",
              "    <tr>\n",
              "      <th>1464</th>\n",
              "      <td>0</td>\n",
              "      <td>[{\"id\": 18, \"name\": \"Drama\"}, {\"id\": 80, \"name...</td>\n",
              "      <td>NaN</td>\n",
              "      <td>310706</td>\n",
              "      <td>[]</td>\n",
              "      <td>en</td>\n",
              "      <td>Black Water Transit</td>\n",
              "      <td>In this action thriller set in post-Katrina Ne...</td>\n",
              "      <td>0.126738</td>\n",
              "      <td>[{\"name\": \"Capitol Films\", \"id\": 826}]</td>\n",
              "      <td>[{\"iso_3166_1\": \"US\", \"name\": \"United States o...</td>\n",
              "      <td>2009-05-13</td>\n",
              "      <td>0</td>\n",
              "      <td>100.0</td>\n",
              "      <td>[{\"iso_639_1\": \"en\", \"name\": \"English\"}]</td>\n",
              "      <td>Released</td>\n",
              "      <td>NaN</td>\n",
              "      <td>Black Water Transit</td>\n",
              "      <td>0.0</td>\n",
              "      <td>0</td>\n",
              "    </tr>\n",
              "    <tr>\n",
              "      <th>3669</th>\n",
              "      <td>0</td>\n",
              "      <td>[{\"id\": 35, \"name\": \"Comedy\"}, {\"id\": 18, \"nam...</td>\n",
              "      <td>http://www.romeothemovie.com/</td>\n",
              "      <td>113406</td>\n",
              "      <td>[]</td>\n",
              "      <td>en</td>\n",
              "      <td>Should've Been Romeo</td>\n",
              "      <td>A self-centered, middle-aged pitchman for a po...</td>\n",
              "      <td>0.407030</td>\n",
              "      <td>[{\"name\": \"Phillybrook Films\", \"id\": 65147}]</td>\n",
              "      <td>[{\"iso_3166_1\": \"US\", \"name\": \"United States o...</td>\n",
              "      <td>2012-04-28</td>\n",
              "      <td>0</td>\n",
              "      <td>0.0</td>\n",
              "      <td>[{\"iso_639_1\": \"en\", \"name\": \"English\"}]</td>\n",
              "      <td>Released</td>\n",
              "      <td>Even Shakespeare didn't see this one coming.</td>\n",
              "      <td>Should've Been Romeo</td>\n",
              "      <td>0.0</td>\n",
              "      <td>0</td>\n",
              "    </tr>\n",
              "    <tr>\n",
              "      <th>3670</th>\n",
              "      <td>0</td>\n",
              "      <td>[{\"id\": 10751, \"name\": \"Family\"}]</td>\n",
              "      <td>NaN</td>\n",
              "      <td>447027</td>\n",
              "      <td>[]</td>\n",
              "      <td>en</td>\n",
              "      <td>Running Forever</td>\n",
              "      <td>After being estranged since her mother's death...</td>\n",
              "      <td>0.028756</td>\n",
              "      <td>[{\"name\": \"New Kingdom Pictures\", \"id\": 41671}]</td>\n",
              "      <td>[{\"iso_3166_1\": \"US\", \"name\": \"United States o...</td>\n",
              "      <td>2015-10-27</td>\n",
              "      <td>0</td>\n",
              "      <td>88.0</td>\n",
              "      <td>[]</td>\n",
              "      <td>Released</td>\n",
              "      <td>NaN</td>\n",
              "      <td>Running Forever</td>\n",
              "      <td>0.0</td>\n",
              "      <td>0</td>\n",
              "    </tr>\n",
              "    <tr>\n",
              "      <th>3852</th>\n",
              "      <td>0</td>\n",
              "      <td>[{\"id\": 18, \"name\": \"Drama\"}]</td>\n",
              "      <td>NaN</td>\n",
              "      <td>395766</td>\n",
              "      <td>[{\"id\": 11162, \"name\": \"miniseries\"}]</td>\n",
              "      <td>en</td>\n",
              "      <td>The Secret</td>\n",
              "      <td>The Secret is the story of a real-life double ...</td>\n",
              "      <td>0.042346</td>\n",
              "      <td>[]</td>\n",
              "      <td>[]</td>\n",
              "      <td>2016-04-29</td>\n",
              "      <td>0</td>\n",
              "      <td>200.0</td>\n",
              "      <td>[]</td>\n",
              "      <td>Released</td>\n",
              "      <td>NaN</td>\n",
              "      <td>The Secret</td>\n",
              "      <td>0.0</td>\n",
              "      <td>0</td>\n",
              "    </tr>\n",
              "    <tr>\n",
              "      <th>3855</th>\n",
              "      <td>3500000</td>\n",
              "      <td>[{\"id\": 99, \"name\": \"Documentary\"}]</td>\n",
              "      <td>http://www.timetochoose.com</td>\n",
              "      <td>370662</td>\n",
              "      <td>[{\"id\": 2210, \"name\": \"climate change\"}, {\"id\"...</td>\n",
              "      <td>en</td>\n",
              "      <td>Time to Choose</td>\n",
              "      <td>Academy Award® winning director Charles Fergus...</td>\n",
              "      <td>1.618138</td>\n",
              "      <td>[{\"name\": \"Representational Pictures\", \"id\": 8...</td>\n",
              "      <td>[{\"iso_3166_1\": \"US\", \"name\": \"United States o...</td>\n",
              "      <td>2015-09-04</td>\n",
              "      <td>0</td>\n",
              "      <td>100.0</td>\n",
              "      <td>[{\"iso_639_1\": \"en\", \"name\": \"English\"}]</td>\n",
              "      <td>Released</td>\n",
              "      <td>Climate change for good.</td>\n",
              "      <td>Time to Choose</td>\n",
              "      <td>0.0</td>\n",
              "      <td>0</td>\n",
              "    </tr>\n",
              "  </tbody>\n",
              "</table>\n",
              "</div>"
            ],
            "text/plain": [
              "       budget  ... vote_count\n",
              "1464        0  ...          0\n",
              "3669        0  ...          0\n",
              "3670        0  ...          0\n",
              "3852        0  ...          0\n",
              "3855  3500000  ...          0\n",
              "\n",
              "[5 rows x 20 columns]"
            ]
          },
          "metadata": {
            "tags": []
          },
          "execution_count": 211
        }
      ]
    },
    {
      "cell_type": "code",
      "metadata": {
        "id": "xDtSueb3fmDd",
        "colab_type": "code",
        "colab": {}
      },
      "source": [
        "tmdb_com_mais_de_10_votos = tmdb.query(\"vote_count >= 10\")"
      ],
      "execution_count": 0,
      "outputs": []
    },
    {
      "cell_type": "code",
      "metadata": {
        "id": "_sOwf6ihgBqy",
        "colab_type": "code",
        "outputId": "f8f2203b-4f8e-4f0e-cf2e-6031bf0b91a0",
        "colab": {
          "base_uri": "https://localhost:8080/",
          "height": 297
        }
      },
      "source": [
        "tmdb_com_mais_de_10_votos.describe()"
      ],
      "execution_count": 213,
      "outputs": [
        {
          "output_type": "execute_result",
          "data": {
            "text/html": [
              "<div>\n",
              "<style scoped>\n",
              "    .dataframe tbody tr th:only-of-type {\n",
              "        vertical-align: middle;\n",
              "    }\n",
              "\n",
              "    .dataframe tbody tr th {\n",
              "        vertical-align: top;\n",
              "    }\n",
              "\n",
              "    .dataframe thead th {\n",
              "        text-align: right;\n",
              "    }\n",
              "</style>\n",
              "<table border=\"1\" class=\"dataframe\">\n",
              "  <thead>\n",
              "    <tr style=\"text-align: right;\">\n",
              "      <th></th>\n",
              "      <th>budget</th>\n",
              "      <th>id</th>\n",
              "      <th>popularity</th>\n",
              "      <th>revenue</th>\n",
              "      <th>runtime</th>\n",
              "      <th>vote_average</th>\n",
              "      <th>vote_count</th>\n",
              "    </tr>\n",
              "  </thead>\n",
              "  <tbody>\n",
              "    <tr>\n",
              "      <th>count</th>\n",
              "      <td>4.392000e+03</td>\n",
              "      <td>4392.000000</td>\n",
              "      <td>4392.000000</td>\n",
              "      <td>4.392000e+03</td>\n",
              "      <td>4391.000000</td>\n",
              "      <td>4392.000000</td>\n",
              "      <td>4392.000000</td>\n",
              "    </tr>\n",
              "    <tr>\n",
              "      <th>mean</th>\n",
              "      <td>3.164545e+07</td>\n",
              "      <td>49204.119991</td>\n",
              "      <td>23.448815</td>\n",
              "      <td>8.990969e+07</td>\n",
              "      <td>108.430881</td>\n",
              "      <td>6.226935</td>\n",
              "      <td>754.441712</td>\n",
              "    </tr>\n",
              "    <tr>\n",
              "      <th>std</th>\n",
              "      <td>4.162736e+07</td>\n",
              "      <td>80136.249777</td>\n",
              "      <td>32.592158</td>\n",
              "      <td>1.682870e+08</td>\n",
              "      <td>21.014719</td>\n",
              "      <td>0.893215</td>\n",
              "      <td>1272.263761</td>\n",
              "    </tr>\n",
              "    <tr>\n",
              "      <th>min</th>\n",
              "      <td>0.000000e+00</td>\n",
              "      <td>5.000000</td>\n",
              "      <td>0.011697</td>\n",
              "      <td>0.000000e+00</td>\n",
              "      <td>0.000000</td>\n",
              "      <td>1.900000</td>\n",
              "      <td>10.000000</td>\n",
              "    </tr>\n",
              "    <tr>\n",
              "      <th>25%</th>\n",
              "      <td>2.895962e+06</td>\n",
              "      <td>8403.500000</td>\n",
              "      <td>6.512166</td>\n",
              "      <td>1.365700e+04</td>\n",
              "      <td>95.000000</td>\n",
              "      <td>5.700000</td>\n",
              "      <td>83.750000</td>\n",
              "    </tr>\n",
              "    <tr>\n",
              "      <th>50%</th>\n",
              "      <td>1.700000e+07</td>\n",
              "      <td>13084.500000</td>\n",
              "      <td>14.827784</td>\n",
              "      <td>2.685837e+07</td>\n",
              "      <td>105.000000</td>\n",
              "      <td>6.300000</td>\n",
              "      <td>288.500000</td>\n",
              "    </tr>\n",
              "    <tr>\n",
              "      <th>75%</th>\n",
              "      <td>4.200000e+07</td>\n",
              "      <td>46831.250000</td>\n",
              "      <td>30.258282</td>\n",
              "      <td>1.022818e+08</td>\n",
              "      <td>118.500000</td>\n",
              "      <td>6.800000</td>\n",
              "      <td>831.000000</td>\n",
              "    </tr>\n",
              "    <tr>\n",
              "      <th>max</th>\n",
              "      <td>3.800000e+08</td>\n",
              "      <td>417859.000000</td>\n",
              "      <td>875.581305</td>\n",
              "      <td>2.787965e+09</td>\n",
              "      <td>338.000000</td>\n",
              "      <td>8.500000</td>\n",
              "      <td>13752.000000</td>\n",
              "    </tr>\n",
              "  </tbody>\n",
              "</table>\n",
              "</div>"
            ],
            "text/plain": [
              "             budget             id  ...  vote_average    vote_count\n",
              "count  4.392000e+03    4392.000000  ...   4392.000000   4392.000000\n",
              "mean   3.164545e+07   49204.119991  ...      6.226935    754.441712\n",
              "std    4.162736e+07   80136.249777  ...      0.893215   1272.263761\n",
              "min    0.000000e+00       5.000000  ...      1.900000     10.000000\n",
              "25%    2.895962e+06    8403.500000  ...      5.700000     83.750000\n",
              "50%    1.700000e+07   13084.500000  ...      6.300000    288.500000\n",
              "75%    4.200000e+07   46831.250000  ...      6.800000    831.000000\n",
              "max    3.800000e+08  417859.000000  ...      8.500000  13752.000000\n",
              "\n",
              "[8 rows x 7 columns]"
            ]
          },
          "metadata": {
            "tags": []
          },
          "execution_count": 213
        }
      ]
    },
    {
      "cell_type": "code",
      "metadata": {
        "id": "TUwzVWN0gGCr",
        "colab_type": "code",
        "outputId": "a5c6fbd5-4db2-4324-d15b-ff1a7facb7a5",
        "colab": {
          "base_uri": "https://localhost:8080/",
          "height": 312
        }
      },
      "source": [
        "ax = sns.distplot(tmdb_com_mais_de_10_votos.vote_average, norm_hist=False)\n",
        "ax.set(\n",
        "    xlabel = \"Nota média\", \n",
        "    ylabel=\"Frequência\",\n",
        "    title=\"Média de voto para tmdb500 dentre os filmes com mais de 10 ou mais votos\"\n",
        "    )\n",
        "ax"
      ],
      "execution_count": 214,
      "outputs": [
        {
          "output_type": "execute_result",
          "data": {
            "text/plain": [
              "<matplotlib.axes._subplots.AxesSubplot at 0x7ff344a01c88>"
            ]
          },
          "metadata": {
            "tags": []
          },
          "execution_count": 214
        },
        {
          "output_type": "display_data",
          "data": {
            "image/png": "[encoded data removed]",
            "text/plain": [
              "<Figure size 432x288 with 1 Axes>"
            ]
          },
          "metadata": {
            "tags": []
          }
        }
      ]
    },
    {
      "cell_type": "code",
      "metadata": {
        "id": "A9HZZMXehDmd",
        "colab_type": "code",
        "outputId": "3c37b4e9-a640-4183-9c0d-43fb51d65413",
        "colab": {
          "base_uri": "https://localhost:8080/",
          "height": 312
        }
      },
      "source": [
        "ax = sns.boxplot(tmdb_com_mais_de_10_votos.vote_average)\n",
        "ax.set(xlabel=\"Nota média do filme\")\n",
        "ax.set_title(\"Distribuição de notas médias dos filmes do TMDB 5000 dentre os filmes com 10 ou mais votos\")"
      ],
      "execution_count": 215,
      "outputs": [
        {
          "output_type": "execute_result",
          "data": {
            "text/plain": [
              "Text(0.5, 1.0, 'Distribuição de notas médias dos filmes do TMDB 5000 dentre os filmes com 10 ou mais votos')"
            ]
          },
          "metadata": {
            "tags": []
          },
          "execution_count": 215
        },
        {
          "output_type": "display_data",
          "data": {
            "image/png": "[encoded data removed]",
            "text/plain": [
              "<Figure size 432x288 with 1 Axes>"
            ]
          },
          "metadata": {
            "tags": []
          }
        }
      ]
    },
    {
      "cell_type": "markdown",
      "metadata": {
        "id": "_3WOuHl8hw4r",
        "colab_type": "text"
      },
      "source": [
        "# Analisaremos também o movielens\n",
        "\n"
      ]
    },
    {
      "cell_type": "code",
      "metadata": {
        "id": "ysbIMaojhr4E",
        "colab_type": "code",
        "colab": {}
      },
      "source": [
        "notas = pd.read_csv('/content/drive/My Drive/Colab Notebooks/Data_science_python/aula0/ratings.csv')"
      ],
      "execution_count": 0,
      "outputs": []
    },
    {
      "cell_type": "code",
      "metadata": {
        "id": "i1mXWLCbiA3T",
        "colab_type": "code",
        "outputId": "b1abdb14-1491-48d6-97fa-9e2a247f0e96",
        "colab": {
          "base_uri": "https://localhost:8080/",
          "height": 204
        }
      },
      "source": [
        "notas.head()"
      ],
      "execution_count": 217,
      "outputs": [
        {
          "output_type": "execute_result",
          "data": {
            "text/html": [
              "<div>\n",
              "<style scoped>\n",
              "    .dataframe tbody tr th:only-of-type {\n",
              "        vertical-align: middle;\n",
              "    }\n",
              "\n",
              "    .dataframe tbody tr th {\n",
              "        vertical-align: top;\n",
              "    }\n",
              "\n",
              "    .dataframe thead th {\n",
              "        text-align: right;\n",
              "    }\n",
              "</style>\n",
              "<table border=\"1\" class=\"dataframe\">\n",
              "  <thead>\n",
              "    <tr style=\"text-align: right;\">\n",
              "      <th></th>\n",
              "      <th>userId</th>\n",
              "      <th>movieId</th>\n",
              "      <th>rating</th>\n",
              "      <th>timestamp</th>\n",
              "    </tr>\n",
              "  </thead>\n",
              "  <tbody>\n",
              "    <tr>\n",
              "      <th>0</th>\n",
              "      <td>1</td>\n",
              "      <td>1</td>\n",
              "      <td>4.0</td>\n",
              "      <td>964982703</td>\n",
              "    </tr>\n",
              "    <tr>\n",
              "      <th>1</th>\n",
              "      <td>1</td>\n",
              "      <td>3</td>\n",
              "      <td>4.0</td>\n",
              "      <td>964981247</td>\n",
              "    </tr>\n",
              "    <tr>\n",
              "      <th>2</th>\n",
              "      <td>1</td>\n",
              "      <td>6</td>\n",
              "      <td>4.0</td>\n",
              "      <td>964982224</td>\n",
              "    </tr>\n",
              "    <tr>\n",
              "      <th>3</th>\n",
              "      <td>1</td>\n",
              "      <td>47</td>\n",
              "      <td>5.0</td>\n",
              "      <td>964983815</td>\n",
              "    </tr>\n",
              "    <tr>\n",
              "      <th>4</th>\n",
              "      <td>1</td>\n",
              "      <td>50</td>\n",
              "      <td>5.0</td>\n",
              "      <td>964982931</td>\n",
              "    </tr>\n",
              "  </tbody>\n",
              "</table>\n",
              "</div>"
            ],
            "text/plain": [
              "   userId  movieId  rating  timestamp\n",
              "0       1        1     4.0  964982703\n",
              "1       1        3     4.0  964981247\n",
              "2       1        6     4.0  964982224\n",
              "3       1       47     5.0  964983815\n",
              "4       1       50     5.0  964982931"
            ]
          },
          "metadata": {
            "tags": []
          },
          "execution_count": 217
        }
      ]
    },
    {
      "cell_type": "code",
      "metadata": {
        "id": "4q5qEMAyiEmV",
        "colab_type": "code",
        "colab": {}
      },
      "source": [
        "nota_media_por_filme = notas.groupby(\"movieId\").mean().rating"
      ],
      "execution_count": 0,
      "outputs": []
    },
    {
      "cell_type": "code",
      "metadata": {
        "id": "H-ynRxtCiTgK",
        "colab_type": "code",
        "outputId": "694b3b02-20a9-4f65-a947-9d2703d492b2",
        "colab": {
          "base_uri": "https://localhost:8080/",
          "height": 136
        }
      },
      "source": [
        "nota_media_por_filme.head()"
      ],
      "execution_count": 219,
      "outputs": [
        {
          "output_type": "execute_result",
          "data": {
            "text/plain": [
              "movieId\n",
              "1    3.920930\n",
              "2    3.431818\n",
              "3    3.259615\n",
              "4    2.357143\n",
              "5    3.071429\n",
              "Name: rating, dtype: float64"
            ]
          },
          "metadata": {
            "tags": []
          },
          "execution_count": 219
        }
      ]
    },
    {
      "cell_type": "code",
      "metadata": {
        "id": "lcNroVHuifod",
        "colab_type": "code",
        "outputId": "291426ee-3b67-42ca-8ffe-06393d8cfdf3",
        "colab": {
          "base_uri": "https://localhost:8080/",
          "height": 312
        }
      },
      "source": [
        "ax = sns.distplot(nota_media_por_filme.values)\n",
        "ax.set(\n",
        "    xlabel = \"Nota média\", \n",
        "    ylabel=\"Frequência\",\n",
        "    title=\"Média de votos para tmdb500 dentre os filmes no movielens com 100k\"\n",
        "    )\n",
        "ax"
      ],
      "execution_count": 220,
      "outputs": [
        {
          "output_type": "execute_result",
          "data": {
            "text/plain": [
              "<matplotlib.axes._subplots.AxesSubplot at 0x7ff3447fa668>"
            ]
          },
          "metadata": {
            "tags": []
          },
          "execution_count": 220
        },
        {
          "output_type": "display_data",
          "data": {
            "image/png": "[encoded data removed]",
            "text/plain": [
              "<Figure size 432x288 with 1 Axes>"
            ]
          },
          "metadata": {
            "tags": []
          }
        }
      ]
    },
    {
      "cell_type": "code",
      "metadata": {
        "id": "K8WkJCSRjAgE",
        "colab_type": "code",
        "outputId": "11eede61-b06e-4d4f-971f-ef9488f46044",
        "colab": {
          "base_uri": "https://localhost:8080/",
          "height": 34
        }
      },
      "source": [
        "quantidade_de_votos_por_filme = notas.groupby(\"movieId\").count()\n",
        "filmes_com_pelo_menos_10_votos = quantidade_de_votos_por_filme.query(\"rating >= 10\").index\n",
        "filmes_com_pelo_menos_10_votos.values"
      ],
      "execution_count": 221,
      "outputs": [
        {
          "output_type": "execute_result",
          "data": {
            "text/plain": [
              "array([     1,      2,      3, ..., 177765, 179819, 187593])"
            ]
          },
          "metadata": {
            "tags": []
          },
          "execution_count": 221
        }
      ]
    },
    {
      "cell_type": "code",
      "metadata": {
        "id": "LVsvjzoHjB2D",
        "colab_type": "code",
        "colab": {}
      },
      "source": [
        "nota_media_dos_filmes_com_pelo_menos_10_votos = nota_media_por_filme.loc[filmes_com_pelo_menos_10_votos.values]"
      ],
      "execution_count": 0,
      "outputs": []
    },
    {
      "cell_type": "code",
      "metadata": {
        "id": "Rfb3LL4XlVKf",
        "colab_type": "code",
        "outputId": "084747fa-0089-4687-e26b-a956787995f6",
        "colab": {
          "base_uri": "https://localhost:8080/",
          "height": 136
        }
      },
      "source": [
        "nota_media_dos_filmes_com_pelo_menos_10_votos.head()"
      ],
      "execution_count": 223,
      "outputs": [
        {
          "output_type": "execute_result",
          "data": {
            "text/plain": [
              "movieId\n",
              "1    3.920930\n",
              "2    3.431818\n",
              "3    3.259615\n",
              "5    3.071429\n",
              "6    3.946078\n",
              "Name: rating, dtype: float64"
            ]
          },
          "metadata": {
            "tags": []
          },
          "execution_count": 223
        }
      ]
    },
    {
      "cell_type": "code",
      "metadata": {
        "id": "qNR8eeNZlm03",
        "colab_type": "code",
        "outputId": "90c6eca6-bce6-4f37-911d-5fc19c5e885a",
        "colab": {
          "base_uri": "https://localhost:8080/",
          "height": 312
        }
      },
      "source": [
        "ax = sns.distplot(nota_media_dos_filmes_com_pelo_menos_10_votos.values)\n",
        "ax.set(\n",
        "    xlabel = \"Nota média\", \n",
        "    ylabel=\"Frequência\",\n",
        "    title=\"Média de votos para tmdb500 dentre os filmes no movielens com 100k com 10 ou mais votos\"\n",
        "    )\n",
        "ax"
      ],
      "execution_count": 224,
      "outputs": [
        {
          "output_type": "execute_result",
          "data": {
            "text/plain": [
              "<matplotlib.axes._subplots.AxesSubplot at 0x7ff3448e3470>"
            ]
          },
          "metadata": {
            "tags": []
          },
          "execution_count": 224
        },
        {
          "output_type": "display_data",
          "data": {
            "image/png": "[encoded data removed]",
            "text/plain": [
              "<Figure size 432x288 with 1 Axes>"
            ]
          },
          "metadata": {
            "tags": []
          }
        }
      ]
    },
    {
      "cell_type": "code",
      "metadata": {
        "id": "77vPPV64oWxx",
        "colab_type": "code",
        "outputId": "72e6bda4-42ff-460e-a4c3-c9c528dc3535",
        "colab": {
          "base_uri": "https://localhost:8080/",
          "height": 312
        }
      },
      "source": [
        "ax = sns.distplot(nota_media_dos_filmes_com_pelo_menos_10_votos.values, \n",
        "                 hist_kws={'cumulative': True},\n",
        "                  kde_kws={'cumulative': True})\n",
        "ax.set(\n",
        "    xlabel = \"Nota média\", \n",
        "    ylabel=\"% acumulada de filmes\",\n",
        "    title=\"Média de voto para tmdb500 dentre os filmes no movielens com 100k com 10 ou mais votos\"\n",
        "    )\n",
        "ax"
      ],
      "execution_count": 225,
      "outputs": [
        {
          "output_type": "execute_result",
          "data": {
            "text/plain": [
              "<matplotlib.axes._subplots.AxesSubplot at 0x7ff3448e3898>"
            ]
          },
          "metadata": {
            "tags": []
          },
          "execution_count": 225
        },
        {
          "output_type": "display_data",
          "data": {
            "image/png": "[encoded data removed]",
            "text/plain": [
              "<Figure size 432x288 with 1 Axes>"
            ]
          },
          "metadata": {
            "tags": []
          }
        }
      ]
    },
    {
      "cell_type": "code",
      "metadata": {
        "id": "lRwigjASl7HJ",
        "colab_type": "code",
        "outputId": "5e2759cf-83f8-4b4c-95b8-e30f77c777d6",
        "colab": {
          "base_uri": "https://localhost:8080/",
          "height": 312
        }
      },
      "source": [
        "ax = sns.boxplot(nota_media_dos_filmes_com_pelo_menos_10_votos.values)\n",
        "ax.set(xlabel=\"Nota média do filme\")\n",
        "ax.set_title(\"Distribuição de notas médias dos filmes do MovieLens 100k dentre os filmes com 10 ou mais votos\")"
      ],
      "execution_count": 226,
      "outputs": [
        {
          "output_type": "execute_result",
          "data": {
            "text/plain": [
              "Text(0.5, 1.0, 'Distribuição de notas médias dos filmes do MovieLens 100k dentre os filmes com 10 ou mais votos')"
            ]
          },
          "metadata": {
            "tags": []
          },
          "execution_count": 226
        },
        {
          "output_type": "display_data",
          "data": {
            "image/png": "[encoded data removed]",
            "text/plain": [
              "<Figure size 432x288 with 1 Axes>"
            ]
          },
          "metadata": {
            "tags": []
          }
        }
      ]
    },
    {
      "cell_type": "markdown",
      "metadata": {
        "id": "RcFwhTkYxKWI",
        "colab_type": "text"
      },
      "source": [
        "# Analisando a distribuição dos dados capturados de outros campos do TMDB\n"
      ]
    },
    {
      "cell_type": "code",
      "metadata": {
        "id": "4Ia8pkm7mYld",
        "colab_type": "code",
        "colab": {
          "base_uri": "https://localhost:8080/",
          "height": 312
        },
        "outputId": "b7cba9e2-2824-445b-9649-fcf15ed29573"
      },
      "source": [
        "ax = sns.distplot(tmdb_com_mais_de_10_votos.vote_count)\n",
        "ax.set(\n",
        "    xlabel = \"Nota média\", \n",
        "    ylabel=\"Densidade\",\n",
        "    title=\"Número de votos para tmdb500 dentre os filmes no TMDB 5000 com 10 ou mais votos\"\n",
        "    )\n",
        "ax"
      ],
      "execution_count": 227,
      "outputs": [
        {
          "output_type": "execute_result",
          "data": {
            "text/plain": [
              "<matplotlib.axes._subplots.AxesSubplot at 0x7ff3447f1438>"
            ]
          },
          "metadata": {
            "tags": []
          },
          "execution_count": 227
        },
        {
          "output_type": "display_data",
          "data": {
            "image/png": "[encoded data removed]",
            "text/plain": [
              "<Figure size 432x288 with 1 Axes>"
            ]
          },
          "metadata": {
            "tags": []
          }
        }
      ]
    },
    {
      "cell_type": "code",
      "metadata": {
        "id": "MQageEGoyLpD",
        "colab_type": "code",
        "colab": {
          "base_uri": "https://localhost:8080/",
          "height": 221
        },
        "outputId": "c481fa46-0df2-4360-9611-5e66748e1216"
      },
      "source": [
        "tmdb.query(\"budget > 0\").budget"
      ],
      "execution_count": 228,
      "outputs": [
        {
          "output_type": "execute_result",
          "data": {
            "text/plain": [
              "0       237000000\n",
              "1       300000000\n",
              "2       245000000\n",
              "3       250000000\n",
              "4       260000000\n",
              "          ...    \n",
              "4791           13\n",
              "4792        20000\n",
              "4796         7000\n",
              "4798       220000\n",
              "4799         9000\n",
              "Name: budget, Length: 3766, dtype: int64"
            ]
          },
          "metadata": {
            "tags": []
          },
          "execution_count": 228
        }
      ]
    },
    {
      "cell_type": "code",
      "metadata": {
        "id": "kf0fcF8_yebh",
        "colab_type": "code",
        "colab": {
          "base_uri": "https://localhost:8080/",
          "height": 312
        },
        "outputId": "92924f04-8e8d-4562-c696-638b2db686e3"
      },
      "source": [
        "ax = sns.distplot(tmdb.query(\"budget > 0\").budget)\n",
        "ax.set(\n",
        "    xlabel = \"Budget(gastos)\", \n",
        "    ylabel=\"Densidade\",\n",
        "    title=\"Gastos em filmes no TMDB 5000\"\n",
        "    )\n",
        "ax"
      ],
      "execution_count": 229,
      "outputs": [
        {
          "output_type": "execute_result",
          "data": {
            "text/plain": [
              "<matplotlib.axes._subplots.AxesSubplot at 0x7ff34445dfd0>"
            ]
          },
          "metadata": {
            "tags": []
          },
          "execution_count": 229
        },
        {
          "output_type": "display_data",
          "data": {
            "image/png": "[encoded data removed]",
            "text/plain": [
              "<Figure size 432x288 with 1 Axes>"
            ]
          },
          "metadata": {
            "tags": []
          }
        }
      ]
    },
    {
      "cell_type": "code",
      "metadata": {
        "id": "CaoGP31qzJk-",
        "colab_type": "code",
        "colab": {
          "base_uri": "https://localhost:8080/",
          "height": 312
        },
        "outputId": "3f190cc4-13c7-4e40-c3a4-54b58acf0f7e"
      },
      "source": [
        "ax = sns.distplot(tmdb.popularity)\n",
        "ax.set(\n",
        "    xlabel = \"Popularidade\", \n",
        "    ylabel=\"Densidade\",\n",
        "    title=\"Popularidade em filmes no TMDB 5000\"\n",
        "    )\n",
        "ax"
      ],
      "execution_count": 230,
      "outputs": [
        {
          "output_type": "execute_result",
          "data": {
            "text/plain": [
              "<matplotlib.axes._subplots.AxesSubplot at 0x7ff344407f60>"
            ]
          },
          "metadata": {
            "tags": []
          },
          "execution_count": 230
        },
        {
          "output_type": "display_data",
          "data": {
            "image/png": "[encoded data removed]",
            "text/plain": [
              "<Figure size 432x288 with 1 Axes>"
            ]
          },
          "metadata": {
            "tags": []
          }
        }
      ]
    },
    {
      "cell_type": "code",
      "metadata": {
        "id": "DPVwyJmOziR6",
        "colab_type": "code",
        "colab": {
          "base_uri": "https://localhost:8080/",
          "height": 312
        },
        "outputId": "87d7107a-e4b7-4b68-8c5f-b5cb95df2886"
      },
      "source": [
        "ax = sns.distplot(tmdb.query(\"runtime > 0\").runtime.dropna())\n",
        "ax.set(\n",
        "    xlabel = \"Tempo de duração\", \n",
        "    ylabel=\"Densidade\",\n",
        "    title=\"Tempo de duração em filmes no TMDB 5000\"\n",
        "    )\n",
        "ax"
      ],
      "execution_count": 231,
      "outputs": [
        {
          "output_type": "execute_result",
          "data": {
            "text/plain": [
              "<matplotlib.axes._subplots.AxesSubplot at 0x7ff3442c82b0>"
            ]
          },
          "metadata": {
            "tags": []
          },
          "execution_count": 231
        },
        {
          "output_type": "display_data",
          "data": {
            "image/png": "[encoded data removed]",
            "text/plain": [
              "<Figure size 432x288 with 1 Axes>"
            ]
          },
          "metadata": {
            "tags": []
          }
        }
      ]
    },
    {
      "cell_type": "code",
      "metadata": {
        "id": "XdRb5yqQ0rua",
        "colab_type": "code",
        "colab": {
          "base_uri": "https://localhost:8080/",
          "height": 312
        },
        "outputId": "4b832265-347e-4444-ab6b-927627d79441"
      },
      "source": [
        "ax = sns.distplot(tmdb.query(\"runtime > 0\").runtime.dropna(),\n",
        "                  hist_kws={\"cumulative\": True},\n",
        "                  kde_kws={\"cumulative\": True})\n",
        "ax.set(\n",
        "    xlabel = \"Tempo de duração\", \n",
        "    ylabel=\"% e filmes\",\n",
        "    title=\"Tempo de duração em filmes no TMDB 5000\"\n",
        "    )\n",
        "ax"
      ],
      "execution_count": 232,
      "outputs": [
        {
          "output_type": "execute_result",
          "data": {
            "text/plain": [
              "<matplotlib.axes._subplots.AxesSubplot at 0x7ff344224e48>"
            ]
          },
          "metadata": {
            "tags": []
          },
          "execution_count": 232
        },
        {
          "output_type": "display_data",
          "data": {
            "image/png": "[encoded data removed]",
            "text/plain": [
              "<Figure size 432x288 with 1 Axes>"
            ]
          },
          "metadata": {
            "tags": []
          }
        }
      ]
    },
    {
      "cell_type": "code",
      "metadata": {
        "id": "y3AX97ln1WbD",
        "colab_type": "code",
        "colab": {
          "base_uri": "https://localhost:8080/",
          "height": 34
        },
        "outputId": "af15ed09-345d-4c9d-f9e4-54fe61828dc7"
      },
      "source": [
        "tmdb.query(\"runtime > 0\").runtime.dropna().quantile(0.8)"
      ],
      "execution_count": 233,
      "outputs": [
        {
          "output_type": "execute_result",
          "data": {
            "text/plain": [
              "121.0"
            ]
          },
          "metadata": {
            "tags": []
          },
          "execution_count": 233
        }
      ]
    },
    {
      "cell_type": "markdown",
      "metadata": {
        "id": "1BIed2ht_K8v",
        "colab_type": "text"
      },
      "source": [
        "# Movielens: média dos filmes com pelo menos 10 votos"
      ]
    },
    {
      "cell_type": "code",
      "metadata": {
        "id": "0qVQvmed_Eng",
        "colab_type": "code",
        "colab": {
          "base_uri": "https://localhost:8080/",
          "height": 34
        },
        "outputId": "6f17ee5f-a94d-48d6-c2f4-f90ec72867c0"
      },
      "source": [
        "print(\"Média dos filmes com pelo menos 10 votos \", nota_media_dos_filmes_com_pelo_menos_10_votos.mean())"
      ],
      "execution_count": 234,
      "outputs": [
        {
          "output_type": "stream",
          "text": [
            "Média dos filmes com pelo menos 10 votos  3.4320503405352603\n"
          ],
          "name": "stdout"
        }
      ]
    },
    {
      "cell_type": "code",
      "metadata": {
        "id": "NwJqZ1M4CvAh",
        "colab_type": "code",
        "colab": {}
      },
      "source": [
        "import matplotlib.pyplot as plt\n",
        "import numpy as np"
      ],
      "execution_count": 0,
      "outputs": []
    },
    {
      "cell_type": "code",
      "metadata": {
        "id": "rS1mdslGAVIA",
        "colab_type": "code",
        "colab": {
          "base_uri": "https://localhost:8080/",
          "height": 282
        },
        "outputId": "b712d5d7-3d3b-4f18-8af8-263cbc977605"
      },
      "source": [
        "np.random.seed(75243)\n",
        "temp = nota_media_dos_filmes_com_pelo_menos_10_votos.sample(frac=1)\n",
        "\n",
        "medias = [temp[0:i].mean() for i in range(1, len(temp))]\n",
        "\n",
        "plt.plot(medias)\n"
      ],
      "execution_count": 236,
      "outputs": [
        {
          "output_type": "execute_result",
          "data": {
            "text/plain": [
              "[<matplotlib.lines.Line2D at 0x7ff343f71860>]"
            ]
          },
          "metadata": {
            "tags": []
          },
          "execution_count": 236
        },
        {
          "output_type": "display_data",
          "data": {
            "image/png": "[encoded data removed]",
            "text/plain": [
              "<Figure size 432x288 with 1 Axes>"
            ]
          },
          "metadata": {
            "tags": []
          }
        }
      ]
    },
    {
      "cell_type": "code",
      "metadata": {
        "id": "EqSOJw9DFGfK",
        "colab_type": "code",
        "colab": {}
      },
      "source": [
        "from statsmodels.stats.weightstats import zconfint"
      ],
      "execution_count": 0,
      "outputs": []
    },
    {
      "cell_type": "code",
      "metadata": {
        "id": "7c97DGYYUrMB",
        "colab_type": "code",
        "colab": {
          "base_uri": "https://localhost:8080/",
          "height": 34
        },
        "outputId": "06c3c6dd-103c-4bf1-c94d-29675dc99632"
      },
      "source": [
        "zconfint(nota_media_dos_filmes_com_pelo_menos_10_votos)"
      ],
      "execution_count": 238,
      "outputs": [
        {
          "output_type": "execute_result",
          "data": {
            "text/plain": [
              "(3.4112459477469557, 3.452854733323563)"
            ]
          },
          "metadata": {
            "tags": []
          },
          "execution_count": 238
        }
      ]
    },
    {
      "cell_type": "code",
      "metadata": {
        "id": "zf5uugj4U-yZ",
        "colab_type": "code",
        "colab": {}
      },
      "source": [
        "from statsmodels.stats.weightstats import DescrStatsW"
      ],
      "execution_count": 0,
      "outputs": []
    },
    {
      "cell_type": "code",
      "metadata": {
        "id": "8vJxa4UOVh_V",
        "colab_type": "code",
        "colab": {}
      },
      "source": [
        "descr_todos_com_10_votos = DescrStatsW(nota_media_dos_filmes_com_pelo_menos_10_votos)"
      ],
      "execution_count": 0,
      "outputs": []
    },
    {
      "cell_type": "code",
      "metadata": {
        "id": "Td_TjTFbVufd",
        "colab_type": "code",
        "colab": {
          "base_uri": "https://localhost:8080/",
          "height": 34
        },
        "outputId": "d694f8a5-2976-4022-a97d-fb7573251b6c"
      },
      "source": [
        "descr_todos_com_10_votos.tconfint_mean()"
      ],
      "execution_count": 242,
      "outputs": [
        {
          "output_type": "execute_result",
          "data": {
            "text/plain": [
              "(3.411234839229381, 3.4528658418411395)"
            ]
          },
          "metadata": {
            "tags": []
          },
          "execution_count": 242
        }
      ]
    },
    {
      "cell_type": "markdown",
      "metadata": {
        "id": "_U3GwiyyWcer",
        "colab_type": "text"
      },
      "source": [
        "# Vamos ver o filme 1\n"
      ]
    },
    {
      "cell_type": "code",
      "metadata": {
        "id": "OgyuMLMBWCjD",
        "colab_type": "code",
        "colab": {}
      },
      "source": [
        "filmes = pd.read_csv('/content/drive/My Drive/Colab Notebooks/Data_science_python/aula0/movies.csv')"
      ],
      "execution_count": 0,
      "outputs": []
    },
    {
      "cell_type": "code",
      "metadata": {
        "id": "9EI-IortWuz8",
        "colab_type": "code",
        "colab": {
          "base_uri": "https://localhost:8080/",
          "height": 80
        },
        "outputId": "55486903-6f89-4e8c-e9e2-2177292af5a4"
      },
      "source": [
        "filmes.head(1)"
      ],
      "execution_count": 244,
      "outputs": [
        {
          "output_type": "execute_result",
          "data": {
            "text/html": [
              "<div>\n",
              "<style scoped>\n",
              "    .dataframe tbody tr th:only-of-type {\n",
              "        vertical-align: middle;\n",
              "    }\n",
              "\n",
              "    .dataframe tbody tr th {\n",
              "        vertical-align: top;\n",
              "    }\n",
              "\n",
              "    .dataframe thead th {\n",
              "        text-align: right;\n",
              "    }\n",
              "</style>\n",
              "<table border=\"1\" class=\"dataframe\">\n",
              "  <thead>\n",
              "    <tr style=\"text-align: right;\">\n",
              "      <th></th>\n",
              "      <th>movieId</th>\n",
              "      <th>title</th>\n",
              "      <th>genres</th>\n",
              "    </tr>\n",
              "  </thead>\n",
              "  <tbody>\n",
              "    <tr>\n",
              "      <th>0</th>\n",
              "      <td>1</td>\n",
              "      <td>Toy Story (1995)</td>\n",
              "      <td>Adventure|Animation|Children|Comedy|Fantasy</td>\n",
              "    </tr>\n",
              "  </tbody>\n",
              "</table>\n",
              "</div>"
            ],
            "text/plain": [
              "   movieId             title                                       genres\n",
              "0        1  Toy Story (1995)  Adventure|Animation|Children|Comedy|Fantasy"
            ]
          },
          "metadata": {
            "tags": []
          },
          "execution_count": 244
        }
      ]
    },
    {
      "cell_type": "code",
      "metadata": {
        "id": "n4UkE7HwW0ad",
        "colab_type": "code",
        "colab": {
          "base_uri": "https://localhost:8080/",
          "height": 204
        },
        "outputId": "542c087e-7293-459f-9f89-a5bc9f4c2f48"
      },
      "source": [
        "notas1 = notas.query(\"movieId == 1\")\n",
        "notas1.head()"
      ],
      "execution_count": 245,
      "outputs": [
        {
          "output_type": "execute_result",
          "data": {
            "text/html": [
              "<div>\n",
              "<style scoped>\n",
              "    .dataframe tbody tr th:only-of-type {\n",
              "        vertical-align: middle;\n",
              "    }\n",
              "\n",
              "    .dataframe tbody tr th {\n",
              "        vertical-align: top;\n",
              "    }\n",
              "\n",
              "    .dataframe thead th {\n",
              "        text-align: right;\n",
              "    }\n",
              "</style>\n",
              "<table border=\"1\" class=\"dataframe\">\n",
              "  <thead>\n",
              "    <tr style=\"text-align: right;\">\n",
              "      <th></th>\n",
              "      <th>userId</th>\n",
              "      <th>movieId</th>\n",
              "      <th>rating</th>\n",
              "      <th>timestamp</th>\n",
              "    </tr>\n",
              "  </thead>\n",
              "  <tbody>\n",
              "    <tr>\n",
              "      <th>0</th>\n",
              "      <td>1</td>\n",
              "      <td>1</td>\n",
              "      <td>4.0</td>\n",
              "      <td>964982703</td>\n",
              "    </tr>\n",
              "    <tr>\n",
              "      <th>516</th>\n",
              "      <td>5</td>\n",
              "      <td>1</td>\n",
              "      <td>4.0</td>\n",
              "      <td>847434962</td>\n",
              "    </tr>\n",
              "    <tr>\n",
              "      <th>874</th>\n",
              "      <td>7</td>\n",
              "      <td>1</td>\n",
              "      <td>4.5</td>\n",
              "      <td>1106635946</td>\n",
              "    </tr>\n",
              "    <tr>\n",
              "      <th>1434</th>\n",
              "      <td>15</td>\n",
              "      <td>1</td>\n",
              "      <td>2.5</td>\n",
              "      <td>1510577970</td>\n",
              "    </tr>\n",
              "    <tr>\n",
              "      <th>1667</th>\n",
              "      <td>17</td>\n",
              "      <td>1</td>\n",
              "      <td>4.5</td>\n",
              "      <td>1305696483</td>\n",
              "    </tr>\n",
              "  </tbody>\n",
              "</table>\n",
              "</div>"
            ],
            "text/plain": [
              "      userId  movieId  rating   timestamp\n",
              "0          1        1     4.0   964982703\n",
              "516        5        1     4.0   847434962\n",
              "874        7        1     4.5  1106635946\n",
              "1434      15        1     2.5  1510577970\n",
              "1667      17        1     4.5  1305696483"
            ]
          },
          "metadata": {
            "tags": []
          },
          "execution_count": 245
        }
      ]
    },
    {
      "cell_type": "code",
      "metadata": {
        "id": "cF2_8m1eXEwG",
        "colab_type": "code",
        "colab": {
          "base_uri": "https://localhost:8080/",
          "height": 312
        },
        "outputId": "30197703-ef5b-4e2e-9f25-bca4f52eebe7"
      },
      "source": [
        "ax = sns.distplot(notas1.rating)\n",
        "ax.set(\n",
        "    xlabel = \"Nota\", \n",
        "    ylabel=\"Densidade\",\n",
        "    title=\"Distribuição das notas para Toy Story\"\n",
        "    )\n",
        "ax"
      ],
      "execution_count": 249,
      "outputs": [
        {
          "output_type": "execute_result",
          "data": {
            "text/plain": [
              "<matplotlib.axes._subplots.AxesSubplot at 0x7ff343d7c2e8>"
            ]
          },
          "metadata": {
            "tags": []
          },
          "execution_count": 249
        },
        {
          "output_type": "display_data",
          "data": {
            "image/png": "[encoded data removed]",
            "text/plain": [
              "<Figure size 432x288 with 1 Axes>"
            ]
          },
          "metadata": {
            "tags": []
          }
        }
      ]
    },
    {
      "cell_type": "code",
      "metadata": {
        "id": "hgpcrM11Xqmr",
        "colab_type": "code",
        "colab": {
          "base_uri": "https://localhost:8080/",
          "height": 312
        },
        "outputId": "dd2e6c28-61ce-4e5f-a71d-3b606a332929"
      },
      "source": [
        "ax = sns.boxplot(notas1.rating)\n",
        "ax.set(xlabel=\"Nota\")\n",
        "ax.set_title(\"Distribuição de notas para Toy Story\")"
      ],
      "execution_count": 251,
      "outputs": [
        {
          "output_type": "execute_result",
          "data": {
            "text/plain": [
              "Text(0.5, 1.0, 'Distribuição de notas para Toy Story')"
            ]
          },
          "metadata": {
            "tags": []
          },
          "execution_count": 251
        },
        {
          "output_type": "display_data",
          "data": {
            "image/png": "[encoded data removed]",
            "text/plain": [
              "<Figure size 432x288 with 1 Axes>"
            ]
          },
          "metadata": {
            "tags": []
          }
        }
      ]
    },
    {
      "cell_type": "code",
      "metadata": {
        "id": "W4DHcuhIYdAi",
        "colab_type": "code",
        "colab": {
          "base_uri": "https://localhost:8080/",
          "height": 34
        },
        "outputId": "f8aae920-aa5a-4215-c2ff-8481941511f3"
      },
      "source": [
        "notas1.rating.mean()"
      ],
      "execution_count": 253,
      "outputs": [
        {
          "output_type": "execute_result",
          "data": {
            "text/plain": [
              "3.9209302325581397"
            ]
          },
          "metadata": {
            "tags": []
          },
          "execution_count": 253
        }
      ]
    },
    {
      "cell_type": "code",
      "metadata": {
        "id": "-ZOKEnHQY-_b",
        "colab_type": "code",
        "colab": {
          "base_uri": "https://localhost:8080/",
          "height": 34
        },
        "outputId": "7e9e0f3c-dbd2-4bae-b4a8-cc8c769ab22a"
      },
      "source": [
        "notas1.rating.count()"
      ],
      "execution_count": 254,
      "outputs": [
        {
          "output_type": "execute_result",
          "data": {
            "text/plain": [
              "215"
            ]
          },
          "metadata": {
            "tags": []
          },
          "execution_count": 254
        }
      ]
    },
    {
      "cell_type": "code",
      "metadata": {
        "id": "ixaqdpCBZCPE",
        "colab_type": "code",
        "colab": {
          "base_uri": "https://localhost:8080/",
          "height": 34
        },
        "outputId": "6afaf344-5072-4641-c836-62a9eb84656d"
      },
      "source": [
        "zconfint(notas1.rating)"
      ],
      "execution_count": 255,
      "outputs": [
        {
          "output_type": "execute_result",
          "data": {
            "text/plain": [
              "(3.8093359183563402, 4.032524546759939)"
            ]
          },
          "metadata": {
            "tags": []
          },
          "execution_count": 255
        }
      ]
    },
    {
      "cell_type": "code",
      "metadata": {
        "id": "Rj-fJLDLZqsV",
        "colab_type": "code",
        "colab": {}
      },
      "source": [
        "from statsmodels.stats.weightstats import ztest"
      ],
      "execution_count": 0,
      "outputs": []
    },
    {
      "cell_type": "code",
      "metadata": {
        "id": "AllRZH8SZTiy",
        "colab_type": "code",
        "colab": {
          "base_uri": "https://localhost:8080/",
          "height": 34
        },
        "outputId": "ae3ebfaf-bca5-4b01-d11a-869800ab436f"
      },
      "source": [
        "ztest(notas1.rating, value = 3.4320503405352594)"
      ],
      "execution_count": 261,
      "outputs": [
        {
          "output_type": "execute_result",
          "data": {
            "text/plain": [
              "(8.586342305916732, 8.978190401885648e-18)"
            ]
          },
          "metadata": {
            "tags": []
          },
          "execution_count": 261
        }
      ]
    },
    {
      "cell_type": "code",
      "metadata": {
        "id": "eeOWx4U3Z_3R",
        "colab_type": "code",
        "colab": {
          "base_uri": "https://localhost:8080/",
          "height": 282
        },
        "outputId": "be570146-de61-42d1-f669-a716db1b9389"
      },
      "source": [
        "np.random.seed(75241)\n",
        "temp = notas1.sample(frac=1).rating\n",
        "\n",
        "def calcula_teste(i):\n",
        "  media = temp[0:i].mean()\n",
        "  stat, p = ztest(temp[0:i], value = 3.4320503405352594)\n",
        "  return (i, media, p)\n",
        "\n",
        "valores = np.array([calcula_teste(i) for i in range(2, len(temp))])\n",
        "\n",
        "plt.plot(valores[:,0], valores[:,1])\n",
        "plt.plot(valores[:,0], valores[:,2])\n",
        "plt.hlines(y = 0.05, xmin = 2, xmax = len(temp), colors='red')\n"
      ],
      "execution_count": 274,
      "outputs": [
        {
          "output_type": "execute_result",
          "data": {
            "text/plain": [
              "<matplotlib.collections.LineCollection at 0x7ff342927630>"
            ]
          },
          "metadata": {
            "tags": []
          },
          "execution_count": 274
        },
        {
          "output_type": "display_data",
          "data": {
            "image/png": "[encoded data removed]",
            "text/plain": [
              "<Figure size 432x288 with 1 Axes>"
            ]
          },
          "metadata": {
            "tags": []
          }
        }
      ]
    },
    {
      "cell_type": "markdown",
      "metadata": {
        "id": "vnkSypJOfhkU",
        "colab_type": "text"
      },
      "source": [
        "# Comparação entre dois conjuntos de amostras."
      ]
    },
    {
      "cell_type": "code",
      "metadata": {
        "id": "bpYP1MLvekbU",
        "colab_type": "code",
        "colab": {
          "base_uri": "https://localhost:8080/",
          "height": 51
        },
        "outputId": "bfd89105-775c-4e37-a18c-63d3441b2604"
      },
      "source": [
        "print(ztest(notas1.rating, notas.rating))\n",
        "zconfint(notas1.rating, notas.rating)"
      ],
      "execution_count": 279,
      "outputs": [
        {
          "output_type": "stream",
          "text": [
            "(5.894327101501841, 3.762112778881965e-09)\n"
          ],
          "name": "stdout"
        },
        {
          "output_type": "execute_result",
          "data": {
            "text/plain": [
              "(0.2799245129192442, 0.5588219849631111)"
            ]
          },
          "metadata": {
            "tags": []
          },
          "execution_count": 279
        }
      ]
    },
    {
      "cell_type": "code",
      "metadata": {
        "id": "LOum1uKte-oO",
        "colab_type": "code",
        "colab": {
          "base_uri": "https://localhost:8080/",
          "height": 34
        },
        "outputId": "62cf18af-7a26-4aec-809b-6963c5eadaf1"
      },
      "source": [
        "from scipy.stats import ttest_ind\n",
        "\n",
        "ttest_ind(notas1.rating, notas.rating)"
      ],
      "execution_count": 281,
      "outputs": [
        {
          "output_type": "execute_result",
          "data": {
            "text/plain": [
              "Ttest_indResult(statistic=5.894327101501841, pvalue=3.774003138720876e-09)"
            ]
          },
          "metadata": {
            "tags": []
          },
          "execution_count": 281
        }
      ]
    },
    {
      "cell_type": "code",
      "metadata": {
        "id": "fpffekILgUsO",
        "colab_type": "code",
        "colab": {}
      },
      "source": [
        "descr_todas_as_notas = DescrStatsW(notas.rating)\n",
        "descr_toy_story = DescrStatsW(notas1.rating)"
      ],
      "execution_count": 0,
      "outputs": []
    },
    {
      "cell_type": "code",
      "metadata": {
        "id": "i95-l_CBgl49",
        "colab_type": "code",
        "colab": {}
      },
      "source": [
        "comparacao = descr_todas_as_notas.get_compare(descr_toy_story)"
      ],
      "execution_count": 0,
      "outputs": []
    },
    {
      "cell_type": "code",
      "metadata": {
        "id": "uyL3zgBhhLuC",
        "colab_type": "code",
        "colab": {
          "base_uri": "https://localhost:8080/",
          "height": 78
        },
        "outputId": "a8fff0a4-4d0d-4d05-df95-bc0d5a4f2c20"
      },
      "source": [
        "comparacao.summary()"
      ],
      "execution_count": 289,
      "outputs": [
        {
          "output_type": "execute_result",
          "data": {
            "text/html": [
              "<table class=\"simpletable\">\n",
              "<caption>Test for equality of means</caption>\n",
              "<tr>\n",
              "      <td></td>         <th>coef</th>     <th>std err</th>      <th>t</th>      <th>P>|t|</th>  <th>[0.025</th>    <th>0.975]</th>  \n",
              "</tr>\n",
              "<tr>\n",
              "  <th>subset #1</th> <td>   -0.4194</td> <td>    0.071</td> <td>   -5.894</td> <td> 0.000</td> <td>   -0.559</td> <td>   -0.280</td>\n",
              "</tr>\n",
              "</table>"
            ],
            "text/plain": [
              "<class 'statsmodels.iolib.table.SimpleTable'>"
            ]
          },
          "metadata": {
            "tags": []
          },
          "execution_count": 289
        }
      ]
    },
    {
      "cell_type": "code",
      "metadata": {
        "id": "vGBr9aGIinAv",
        "colab_type": "code",
        "colab": {
          "base_uri": "https://localhost:8080/",
          "height": 78
        },
        "outputId": "4bfc726e-97fe-49f8-fa03-b784cc334964"
      },
      "source": [
        "comparacao.summary(use_t=True)"
      ],
      "execution_count": 290,
      "outputs": [
        {
          "output_type": "execute_result",
          "data": {
            "text/html": [
              "<table class=\"simpletable\">\n",
              "<caption>Test for equality of means</caption>\n",
              "<tr>\n",
              "      <td></td>         <th>coef</th>     <th>std err</th>      <th>t</th>      <th>P>|t|</th>  <th>[0.025</th>    <th>0.975]</th>  \n",
              "</tr>\n",
              "<tr>\n",
              "  <th>subset #1</th> <td>   -0.4194</td> <td>    0.071</td> <td>   -5.894</td> <td> 0.000</td> <td>   -0.559</td> <td>   -0.280</td>\n",
              "</tr>\n",
              "</table>"
            ],
            "text/plain": [
              "<class 'statsmodels.iolib.table.SimpleTable'>"
            ]
          },
          "metadata": {
            "tags": []
          },
          "execution_count": 290
        }
      ]
    },
    {
      "cell_type": "code",
      "metadata": {
        "id": "EmjtkB4gi3M-",
        "colab_type": "code",
        "colab": {}
      },
      "source": [
        "import matplotlib.pyplot as plt"
      ],
      "execution_count": 0,
      "outputs": []
    },
    {
      "cell_type": "code",
      "metadata": {
        "id": "3bkjqczsi8fL",
        "colab_type": "code",
        "colab": {
          "base_uri": "https://localhost:8080/",
          "height": 520
        },
        "outputId": "c36a44dc-0746-4190-db1b-c747d3ecad20"
      },
      "source": [
        "plt.boxplot([notas.rating, notas1.rating], labels = [\"Todas as notas\", \"Toy Story\"])\n",
        "plt.title(\"Distribuição das notas de acordo com filmes\")"
      ],
      "execution_count": 294,
      "outputs": [
        {
          "output_type": "execute_result",
          "data": {
            "text/plain": [
              "{'boxes': [<matplotlib.lines.Line2D at 0x7ff33fe83630>,\n",
              "  <matplotlib.lines.Line2D at 0x7ff33fe91e48>],\n",
              " 'caps': [<matplotlib.lines.Line2D at 0x7ff33fe91080>,\n",
              "  <matplotlib.lines.Line2D at 0x7ff33fe91400>,\n",
              "  <matplotlib.lines.Line2D at 0x7ff33fe9b940>,\n",
              "  <matplotlib.lines.Line2D at 0x7ff33fe9bcc0>],\n",
              " 'fliers': [<matplotlib.lines.Line2D at 0x7ff33fe91b00>,\n",
              "  <matplotlib.lines.Line2D at 0x7ff33fea7400>],\n",
              " 'means': [],\n",
              " 'medians': [<matplotlib.lines.Line2D at 0x7ff33fe91780>,\n",
              "  <matplotlib.lines.Line2D at 0x7ff33fea7080>],\n",
              " 'whiskers': [<matplotlib.lines.Line2D at 0x7ff33fe83940>,\n",
              "  <matplotlib.lines.Line2D at 0x7ff33fe83cc0>,\n",
              "  <matplotlib.lines.Line2D at 0x7ff33fe9b240>,\n",
              "  <matplotlib.lines.Line2D at 0x7ff33fe9b5c0>]}"
            ]
          },
          "metadata": {
            "tags": []
          },
          "execution_count": 294
        },
        {
          "output_type": "display_data",
          "data": {
            "image/png": "[encoded data removed]",
            "text/plain": [
              "<Figure size 432x288 with 1 Axes>"
            ]
          },
          "metadata": {
            "tags": []
          }
        }
      ]
    }
  ]
}